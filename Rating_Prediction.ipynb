{
 "cells": [
  {
   "cell_type": "code",
   "execution_count": 1,
   "id": "7f6671ff-630e-4b85-b759-7103e3cf8b15",
   "metadata": {},
   "outputs": [],
   "source": [
    "import numpy as np\n",
    "import pandas as pd\n",
    "import matplotlib.pyplot as plt"
   ]
  },
  {
   "cell_type": "code",
   "execution_count": 2,
   "id": "e608ade2-7f24-42f9-a23d-d751cc979172",
   "metadata": {},
   "outputs": [],
   "source": [
    "df = pd.read_csv(\"/Users/dongdongsun/Desktop/NYU CDS/1001/Porject2/movieReplicationSet.csv\")"
   ]
  },
  {
   "cell_type": "markdown",
   "id": "7f2fd9b4-4d70-4e12-afed-5e1442d6a1cb",
   "metadata": {},
   "source": [
    "### 1 Dimension Reduction"
   ]
  },
  {
   "cell_type": "code",
   "execution_count": 3,
   "id": "ad162861-7c84-41ce-b466-4fc154e3cd6a",
   "metadata": {},
   "outputs": [],
   "source": [
    "report = df.iloc[:,420:474]\n",
    "for col in report.columns:\n",
    "    ave = report[col].mean()\n",
    "    report[col].fillna(value=ave, inplace=True)"
   ]
  },
  {
   "cell_type": "code",
   "execution_count": 4,
   "id": "d9eb4c70-78cf-42c4-9693-707ffdce0765",
   "metadata": {},
   "outputs": [
    {
     "data": {
      "text/plain": [
       "(6.5371179139953174e-18, 1.0, (1097, 54))"
      ]
     },
     "execution_count": 4,
     "metadata": {},
     "output_type": "execute_result"
    }
   ],
   "source": [
    "from sklearn.preprocessing import StandardScaler\n",
    "# x = StandardScaler().fit_transform(report.values)\n",
    "x = StandardScaler().fit_transform(report)\n",
    "np.mean(x),np.std(x),x.shape"
   ]
  },
  {
   "cell_type": "code",
   "execution_count": 5,
   "id": "ec8c02bd-ce5b-4e2e-b79f-8c3c40e6ef19",
   "metadata": {},
   "outputs": [
    {
     "data": {
      "text/plain": [
       "Text(0, 0.5, 'Eigenvalues')"
      ]
     },
     "execution_count": 5,
     "metadata": {},
     "output_type": "execute_result"
    },
    {
     "data": {
      "image/png": "[encoded data removed]",
      "text/plain": [
       "<Figure size 432x288 with 1 Axes>"
      ]
     },
     "metadata": {
      "needs_background": "light"
     },
     "output_type": "display_data"
    }
   ],
   "source": [
    "from sklearn.decomposition import PCA\n",
    "pca = PCA().fit(x)\n",
    "eigValues = pca.explained_variance_ \n",
    "loadings = pca.components_ *-1\n",
    "origDataNewCoordinates = pca.fit_transform(x) *-1\n",
    "\n",
    "# Scree plot:\n",
    "numPredictors = 54\n",
    "plt.bar(np.linspace(1,numPredictors,numPredictors),eigValues)\n",
    "plt.title('Scree plot')\n",
    "plt.xlabel('Principal Components')\n",
    "plt.ylabel('Eigenvalues')\n",
    "#8"
   ]
  },
  {
   "cell_type": "code",
   "execution_count": 6,
   "id": "1a439a0b-f638-43f9-b2d9-52c3d392af02",
   "metadata": {},
   "outputs": [
    {
     "data": {
      "text/html": [
       "<div>\n",
       "<style scoped>\n",
       "    .dataframe tbody tr th:only-of-type {\n",
       "        vertical-align: middle;\n",
       "    }\n",
       "\n",
       "    .dataframe tbody tr th {\n",
       "        vertical-align: top;\n",
       "    }\n",
       "\n",
       "    .dataframe thead th {\n",
       "        text-align: right;\n",
       "    }\n",
       "</style>\n",
       "<table border=\"1\" class=\"dataframe\">\n",
       "  <thead>\n",
       "    <tr style=\"text-align: right;\">\n",
       "      <th></th>\n",
       "      <th>Is talkative</th>\n",
       "      <th>Tends to find fault with others</th>\n",
       "      <th>Does a thorough job</th>\n",
       "      <th>Is depressed/Blue</th>\n",
       "      <th>Is original/comes up with new ideas</th>\n",
       "      <th>Is reserved</th>\n",
       "      <th>Is helpful and unselfish with others</th>\n",
       "      <th>Can be somewhat careless</th>\n",
       "      <th>Is relaxed/handles stress well</th>\n",
       "      <th>Is curious about many different things</th>\n",
       "      <th>...</th>\n",
       "      <th>I have cried during a movie</th>\n",
       "      <th>I have trouble following the story of a movie</th>\n",
       "      <th>I have trouble remembering the story of a movie a couple of days after seeing it</th>\n",
       "      <th>When watching a movie I cheer or shout or talk or curse at the screen</th>\n",
       "      <th>When watching a movie I feel like the things on the screen are happening to me</th>\n",
       "      <th>As a movie unfolds I start to have problems keeping track of events that happened earlier</th>\n",
       "      <th>The emotions on the screen \"rub off\" on me - for instance if something sad is happening I get sad or if something frightening is happening I get scared</th>\n",
       "      <th>When watching a movie I get completely immersed in the alternative reality of the film</th>\n",
       "      <th>Movies change my position on social economic or political issues</th>\n",
       "      <th>When watching movies things get so intense that I have to stop watching</th>\n",
       "    </tr>\n",
       "  </thead>\n",
       "  <tbody>\n",
       "    <tr>\n",
       "      <th>PC-1</th>\n",
       "      <td>-0.179161</td>\n",
       "      <td>0.104341</td>\n",
       "      <td>-0.185441</td>\n",
       "      <td>0.186837</td>\n",
       "      <td>-0.171622</td>\n",
       "      <td>0.145237</td>\n",
       "      <td>-0.172147</td>\n",
       "      <td>0.108962</td>\n",
       "      <td>-0.163193</td>\n",
       "      <td>-0.156580</td>\n",
       "      <td>...</td>\n",
       "      <td>-0.035092</td>\n",
       "      <td>0.084141</td>\n",
       "      <td>0.097866</td>\n",
       "      <td>-0.025568</td>\n",
       "      <td>-0.036614</td>\n",
       "      <td>0.096660</td>\n",
       "      <td>-0.051669</td>\n",
       "      <td>-0.067044</td>\n",
       "      <td>-0.033663</td>\n",
       "      <td>0.029788</td>\n",
       "    </tr>\n",
       "    <tr>\n",
       "      <th>PC-2</th>\n",
       "      <td>-0.098106</td>\n",
       "      <td>-0.075461</td>\n",
       "      <td>-0.042610</td>\n",
       "      <td>-0.186114</td>\n",
       "      <td>-0.130195</td>\n",
       "      <td>-0.007824</td>\n",
       "      <td>-0.020476</td>\n",
       "      <td>-0.089866</td>\n",
       "      <td>0.188263</td>\n",
       "      <td>-0.152879</td>\n",
       "      <td>...</td>\n",
       "      <td>-0.182766</td>\n",
       "      <td>-0.080070</td>\n",
       "      <td>-0.033766</td>\n",
       "      <td>-0.152667</td>\n",
       "      <td>-0.214637</td>\n",
       "      <td>-0.112520</td>\n",
       "      <td>-0.246836</td>\n",
       "      <td>-0.229220</td>\n",
       "      <td>-0.182308</td>\n",
       "      <td>-0.163787</td>\n",
       "    </tr>\n",
       "    <tr>\n",
       "      <th>PC-3</th>\n",
       "      <td>0.292285</td>\n",
       "      <td>0.072772</td>\n",
       "      <td>-0.151800</td>\n",
       "      <td>-0.085922</td>\n",
       "      <td>-0.048972</td>\n",
       "      <td>-0.339960</td>\n",
       "      <td>-0.117712</td>\n",
       "      <td>0.157611</td>\n",
       "      <td>0.015291</td>\n",
       "      <td>-0.064992</td>\n",
       "      <td>...</td>\n",
       "      <td>0.036839</td>\n",
       "      <td>0.108575</td>\n",
       "      <td>0.101145</td>\n",
       "      <td>0.104835</td>\n",
       "      <td>0.053249</td>\n",
       "      <td>0.087079</td>\n",
       "      <td>0.002635</td>\n",
       "      <td>-0.018281</td>\n",
       "      <td>0.017423</td>\n",
       "      <td>0.061303</td>\n",
       "    </tr>\n",
       "    <tr>\n",
       "      <th>PC-4</th>\n",
       "      <td>-0.070939</td>\n",
       "      <td>-0.223660</td>\n",
       "      <td>-0.252321</td>\n",
       "      <td>-0.077102</td>\n",
       "      <td>0.024803</td>\n",
       "      <td>0.010593</td>\n",
       "      <td>0.111031</td>\n",
       "      <td>0.144997</td>\n",
       "      <td>0.153181</td>\n",
       "      <td>0.014254</td>\n",
       "      <td>...</td>\n",
       "      <td>0.000095</td>\n",
       "      <td>0.040107</td>\n",
       "      <td>0.028158</td>\n",
       "      <td>-0.024348</td>\n",
       "      <td>0.056157</td>\n",
       "      <td>0.065284</td>\n",
       "      <td>0.057133</td>\n",
       "      <td>0.070330</td>\n",
       "      <td>0.094643</td>\n",
       "      <td>0.067103</td>\n",
       "    </tr>\n",
       "    <tr>\n",
       "      <th>PC-5</th>\n",
       "      <td>-0.042244</td>\n",
       "      <td>0.128557</td>\n",
       "      <td>-0.083297</td>\n",
       "      <td>0.062609</td>\n",
       "      <td>0.239820</td>\n",
       "      <td>0.032211</td>\n",
       "      <td>-0.132018</td>\n",
       "      <td>0.163531</td>\n",
       "      <td>0.120320</td>\n",
       "      <td>0.177767</td>\n",
       "      <td>...</td>\n",
       "      <td>-0.195022</td>\n",
       "      <td>-0.236036</td>\n",
       "      <td>-0.176852</td>\n",
       "      <td>-0.111666</td>\n",
       "      <td>-0.080437</td>\n",
       "      <td>-0.197502</td>\n",
       "      <td>-0.174131</td>\n",
       "      <td>-0.054449</td>\n",
       "      <td>-0.050981</td>\n",
       "      <td>-0.134980</td>\n",
       "    </tr>\n",
       "    <tr>\n",
       "      <th>PC-6</th>\n",
       "      <td>-0.085082</td>\n",
       "      <td>-0.057953</td>\n",
       "      <td>-0.019200</td>\n",
       "      <td>0.065927</td>\n",
       "      <td>0.065385</td>\n",
       "      <td>-0.148042</td>\n",
       "      <td>-0.140046</td>\n",
       "      <td>-0.249105</td>\n",
       "      <td>-0.109490</td>\n",
       "      <td>-0.000902</td>\n",
       "      <td>...</td>\n",
       "      <td>0.174159</td>\n",
       "      <td>-0.099834</td>\n",
       "      <td>-0.083139</td>\n",
       "      <td>0.095093</td>\n",
       "      <td>0.192465</td>\n",
       "      <td>-0.062771</td>\n",
       "      <td>0.164651</td>\n",
       "      <td>0.163694</td>\n",
       "      <td>0.101615</td>\n",
       "      <td>0.106410</td>\n",
       "    </tr>\n",
       "    <tr>\n",
       "      <th>PC-7</th>\n",
       "      <td>0.135596</td>\n",
       "      <td>-0.019010</td>\n",
       "      <td>-0.057278</td>\n",
       "      <td>0.057091</td>\n",
       "      <td>-0.022059</td>\n",
       "      <td>-0.102814</td>\n",
       "      <td>0.058769</td>\n",
       "      <td>-0.039940</td>\n",
       "      <td>-0.260378</td>\n",
       "      <td>0.071870</td>\n",
       "      <td>...</td>\n",
       "      <td>0.005108</td>\n",
       "      <td>-0.191198</td>\n",
       "      <td>-0.266590</td>\n",
       "      <td>-0.199899</td>\n",
       "      <td>-0.221310</td>\n",
       "      <td>-0.321089</td>\n",
       "      <td>-0.139552</td>\n",
       "      <td>-0.189027</td>\n",
       "      <td>-0.249619</td>\n",
       "      <td>-0.217010</td>\n",
       "    </tr>\n",
       "    <tr>\n",
       "      <th>PC-8</th>\n",
       "      <td>-0.030795</td>\n",
       "      <td>-0.022618</td>\n",
       "      <td>0.026693</td>\n",
       "      <td>0.077694</td>\n",
       "      <td>0.213633</td>\n",
       "      <td>-0.024229</td>\n",
       "      <td>-0.014106</td>\n",
       "      <td>-0.118081</td>\n",
       "      <td>-0.087903</td>\n",
       "      <td>0.008145</td>\n",
       "      <td>...</td>\n",
       "      <td>-0.227056</td>\n",
       "      <td>0.423699</td>\n",
       "      <td>0.366583</td>\n",
       "      <td>-0.006679</td>\n",
       "      <td>-0.185226</td>\n",
       "      <td>0.356958</td>\n",
       "      <td>-0.250705</td>\n",
       "      <td>-0.307551</td>\n",
       "      <td>-0.115537</td>\n",
       "      <td>-0.037603</td>\n",
       "    </tr>\n",
       "  </tbody>\n",
       "</table>\n",
       "<p>8 rows × 54 columns</p>\n",
       "</div>"
      ],
      "text/plain": [
       "      Is talkative  Tends to find fault with others  Does a thorough job  \\\n",
       "PC-1     -0.179161                         0.104341            -0.185441   \n",
       "PC-2     -0.098106                        -0.075461            -0.042610   \n",
       "PC-3      0.292285                         0.072772            -0.151800   \n",
       "PC-4     -0.070939                        -0.223660            -0.252321   \n",
       "PC-5     -0.042244                         0.128557            -0.083297   \n",
       "PC-6     -0.085082                        -0.057953            -0.019200   \n",
       "PC-7      0.135596                        -0.019010            -0.057278   \n",
       "PC-8     -0.030795                        -0.022618             0.026693   \n",
       "\n",
       "      Is depressed/Blue  Is original/comes up with new ideas  Is reserved  \\\n",
       "PC-1           0.186837                            -0.171622     0.145237   \n",
       "PC-2          -0.186114                            -0.130195    -0.007824   \n",
       "PC-3          -0.085922                            -0.048972    -0.339960   \n",
       "PC-4          -0.077102                             0.024803     0.010593   \n",
       "PC-5           0.062609                             0.239820     0.032211   \n",
       "PC-6           0.065927                             0.065385    -0.148042   \n",
       "PC-7           0.057091                            -0.022059    -0.102814   \n",
       "PC-8           0.077694                             0.213633    -0.024229   \n",
       "\n",
       "      Is helpful and unselfish with others  Can be somewhat careless  \\\n",
       "PC-1                             -0.172147                  0.108962   \n",
       "PC-2                             -0.020476                 -0.089866   \n",
       "PC-3                             -0.117712                  0.157611   \n",
       "PC-4                              0.111031                  0.144997   \n",
       "PC-5                             -0.132018                  0.163531   \n",
       "PC-6                             -0.140046                 -0.249105   \n",
       "PC-7                              0.058769                 -0.039940   \n",
       "PC-8                             -0.014106                 -0.118081   \n",
       "\n",
       "      Is relaxed/handles stress well  Is curious about many different things  \\\n",
       "PC-1                       -0.163193                               -0.156580   \n",
       "PC-2                        0.188263                               -0.152879   \n",
       "PC-3                        0.015291                               -0.064992   \n",
       "PC-4                        0.153181                                0.014254   \n",
       "PC-5                        0.120320                                0.177767   \n",
       "PC-6                       -0.109490                               -0.000902   \n",
       "PC-7                       -0.260378                                0.071870   \n",
       "PC-8                       -0.087903                                0.008145   \n",
       "\n",
       "      ...  I have cried during a movie  \\\n",
       "PC-1  ...                    -0.035092   \n",
       "PC-2  ...                    -0.182766   \n",
       "PC-3  ...                     0.036839   \n",
       "PC-4  ...                     0.000095   \n",
       "PC-5  ...                    -0.195022   \n",
       "PC-6  ...                     0.174159   \n",
       "PC-7  ...                     0.005108   \n",
       "PC-8  ...                    -0.227056   \n",
       "\n",
       "      I have trouble following the story of a movie  \\\n",
       "PC-1                                       0.084141   \n",
       "PC-2                                      -0.080070   \n",
       "PC-3                                       0.108575   \n",
       "PC-4                                       0.040107   \n",
       "PC-5                                      -0.236036   \n",
       "PC-6                                      -0.099834   \n",
       "PC-7                                      -0.191198   \n",
       "PC-8                                       0.423699   \n",
       "\n",
       "      I have trouble remembering the story of a movie a couple of days after seeing it  \\\n",
       "PC-1                                           0.097866                                  \n",
       "PC-2                                          -0.033766                                  \n",
       "PC-3                                           0.101145                                  \n",
       "PC-4                                           0.028158                                  \n",
       "PC-5                                          -0.176852                                  \n",
       "PC-6                                          -0.083139                                  \n",
       "PC-7                                          -0.266590                                  \n",
       "PC-8                                           0.366583                                  \n",
       "\n",
       "      When watching a movie I cheer or shout or talk or curse at the screen  \\\n",
       "PC-1                                          -0.025568                       \n",
       "PC-2                                          -0.152667                       \n",
       "PC-3                                           0.104835                       \n",
       "PC-4                                          -0.024348                       \n",
       "PC-5                                          -0.111666                       \n",
       "PC-6                                           0.095093                       \n",
       "PC-7                                          -0.199899                       \n",
       "PC-8                                          -0.006679                       \n",
       "\n",
       "      When watching a movie I feel like the things on the screen are happening to me  \\\n",
       "PC-1                                          -0.036614                                \n",
       "PC-2                                          -0.214637                                \n",
       "PC-3                                           0.053249                                \n",
       "PC-4                                           0.056157                                \n",
       "PC-5                                          -0.080437                                \n",
       "PC-6                                           0.192465                                \n",
       "PC-7                                          -0.221310                                \n",
       "PC-8                                          -0.185226                                \n",
       "\n",
       "      As a movie unfolds I start to have problems keeping track of events that happened earlier  \\\n",
       "PC-1                                           0.096660                                           \n",
       "PC-2                                          -0.112520                                           \n",
       "PC-3                                           0.087079                                           \n",
       "PC-4                                           0.065284                                           \n",
       "PC-5                                          -0.197502                                           \n",
       "PC-6                                          -0.062771                                           \n",
       "PC-7                                          -0.321089                                           \n",
       "PC-8                                           0.356958                                           \n",
       "\n",
       "      The emotions on the screen \"rub off\" on me - for instance if something sad is happening I get sad or if something frightening is happening I get scared  \\\n",
       "PC-1                                          -0.051669                                                                                                         \n",
       "PC-2                                          -0.246836                                                                                                         \n",
       "PC-3                                           0.002635                                                                                                         \n",
       "PC-4                                           0.057133                                                                                                         \n",
       "PC-5                                          -0.174131                                                                                                         \n",
       "PC-6                                           0.164651                                                                                                         \n",
       "PC-7                                          -0.139552                                                                                                         \n",
       "PC-8                                          -0.250705                                                                                                         \n",
       "\n",
       "      When watching a movie I get completely immersed in the alternative reality of the film  \\\n",
       "PC-1                                          -0.067044                                        \n",
       "PC-2                                          -0.229220                                        \n",
       "PC-3                                          -0.018281                                        \n",
       "PC-4                                           0.070330                                        \n",
       "PC-5                                          -0.054449                                        \n",
       "PC-6                                           0.163694                                        \n",
       "PC-7                                          -0.189027                                        \n",
       "PC-8                                          -0.307551                                        \n",
       "\n",
       "      Movies change my position on social economic or political issues  \\\n",
       "PC-1                                          -0.033663                  \n",
       "PC-2                                          -0.182308                  \n",
       "PC-3                                           0.017423                  \n",
       "PC-4                                           0.094643                  \n",
       "PC-5                                          -0.050981                  \n",
       "PC-6                                           0.101615                  \n",
       "PC-7                                          -0.249619                  \n",
       "PC-8                                          -0.115537                  \n",
       "\n",
       "      When watching movies things get so intense that I have to stop watching  \n",
       "PC-1                                           0.029788                        \n",
       "PC-2                                          -0.163787                        \n",
       "PC-3                                           0.061303                        \n",
       "PC-4                                           0.067103                        \n",
       "PC-5                                          -0.134980                        \n",
       "PC-6                                           0.106410                        \n",
       "PC-7                                          -0.217010                        \n",
       "PC-8                                          -0.037603                        \n",
       "\n",
       "[8 rows x 54 columns]"
      ]
     },
     "execution_count": 6,
     "metadata": {},
     "output_type": "execute_result"
    }
   ],
   "source": [
    "# normalize data\n",
    "from sklearn import preprocessing\n",
    "data_scaled = pd.DataFrame(preprocessing.scale(report),columns = report.columns) \n",
    "\n",
    "# PCA\n",
    "pca = PCA(n_components=8)\n",
    "pca.fit_transform(data_scaled)\n",
    "\n",
    "# Dump components relations with features:\n",
    "pd.DataFrame(pca.components_,columns=data_scaled.columns\n",
    "             ,index = ['PC-1','PC-2','PC-3','PC-4','PC-5','PC-6','PC-7','PC-8'])"
   ]
  },
  {
   "cell_type": "code",
   "execution_count": 7,
   "id": "4a079d4e-ca03-427e-8bd8-f6a56fd94c76",
   "metadata": {},
   "outputs": [
    {
     "data": {
      "text/plain": [
       "[<matplotlib.lines.Line2D at 0x7fc010176790>]"
      ]
     },
     "execution_count": 7,
     "metadata": {},
     "output_type": "execute_result"
    },
    {
     "data": {
      "image/png": "[encoded data removed]",
      "text/plain": [
       "<Figure size 432x288 with 4 Axes>"
      ]
     },
     "metadata": {
      "needs_background": "light"
     },
     "output_type": "display_data"
    }
   ],
   "source": [
    "figure, axis = plt.subplots(2, 2)\n",
    "\n",
    "axis[0, 0].plot(origDataNewCoordinates[:,0],origDataNewCoordinates[:,1],'o',markersize=1)\n",
    "\n",
    "axis[0, 1].plot(origDataNewCoordinates[:,2],origDataNewCoordinates[:,3],'o',markersize=1)\n",
    "\n",
    "axis[1, 0].plot(origDataNewCoordinates[:,4],origDataNewCoordinates[:,5],'o',markersize=1)\n",
    "\n",
    "axis[1, 1].plot(origDataNewCoordinates[:,6],origDataNewCoordinates[:,7],'o',markersize=1)"
   ]
  },
  {
   "cell_type": "markdown",
   "id": "7106c70d-3158-4d48-b9e0-b9d3dd798087",
   "metadata": {},
   "source": [
    "## 2 Clustering"
   ]
  },
  {
   "cell_type": "code",
   "execution_count": 8,
   "id": "50144060-cc6a-4a4b-b8c7-57e2eaae79f4",
   "metadata": {},
   "outputs": [
    {
     "data": {
      "text/plain": [
       "(1097, 8)"
      ]
     },
     "execution_count": 8,
     "metadata": {},
     "output_type": "execute_result"
    }
   ],
   "source": [
    "X = origDataNewCoordinates[:,0:8]\n",
    "X.shape"
   ]
  },
  {
   "cell_type": "code",
   "execution_count": 9,
   "id": "cc56a982-ac68-4c40-b2d8-033c7acb62f0",
   "metadata": {},
   "outputs": [],
   "source": [
    "# Silhouette: How similar to points in cluster vs. others, arbitrariness\n",
    "numClusters = 18 # how many clusters are we looping over? (from 8 to 18)\n",
    "Q = np.empty([numClusters,1]) # init container to store sums\n",
    "Q[:] = np.NaN # convert to NaN"
   ]
  },
  {
   "cell_type": "code",
   "execution_count": 10,
   "id": "1f437e75-b9f5-4ce0-99f1-a055e8788072",
   "metadata": {},
   "outputs": [
    {
     "data": {
      "image/png": "[encoded data removed]",
      "text/plain": [
       "<Figure size 432x288 with 18 Axes>"
      ]
     },
     "metadata": {
      "needs_background": "light"
     },
     "output_type": "display_data"
    }
   ],
   "source": [
    "from sklearn.cluster import KMeans\n",
    "from sklearn.metrics import silhouette_samples\n",
    "# Compute kMeans:\n",
    "for ii in range(2, 20): # Loop through each cluster (from 2 to 10!)\n",
    "    kMeans = KMeans(n_clusters = int(ii)).fit(X) # compute kmeans\n",
    "    cId = kMeans.labels_ # vector of cluster IDs that the row belongs to\n",
    "    cCoords = kMeans.cluster_centers_ # coordinate location for center of each cluster\n",
    "    s = silhouette_samples(X,cId) # compute the mean silhouette coefficient of all samples\n",
    "    # print(s.shape)\n",
    "    Q[ii-2] = sum(s) # take sum\n",
    "    # Plot data:\n",
    "    plt.subplot(3,6,ii-1) \n",
    "    plt.hist(s,bins=20) \n",
    "    plt.xlim(-0.2,1)\n",
    "    plt.ylim(0,500)\n",
    "    plt.xlabel('Silhouette score')\n",
    "    plt.ylabel('Count')\n",
    "    plt.title('Sum: {}'.format(int(Q[ii-2]))) # sum rounded to nearest integer\n"
   ]
  },
  {
   "cell_type": "code",
   "execution_count": 11,
   "id": "ddcf7936-8bad-43ed-9cad-42d94db75967",
   "metadata": {},
   "outputs": [
    {
     "data": {
      "text/plain": [
       "Text(0, 0.5, 'Sum of silhouette scores')"
      ]
     },
     "execution_count": 11,
     "metadata": {},
     "output_type": "execute_result"
    },
    {
     "data": {
      "image/png": "[encoded data removed]",
      "text/plain": [
       "<Figure size 432x288 with 1 Axes>"
      ]
     },
     "metadata": {
      "needs_background": "light"
     },
     "output_type": "display_data"
    }
   ],
   "source": [
    "#%% Plot this to make it clearer what is going on\n",
    "plt.plot(np.linspace(2,19,numClusters),Q)\n",
    "plt.xlabel('Number of clusters')\n",
    "plt.ylabel('Sum of silhouette scores')\n",
    "# kMeans gives you the center coordinates of the clusters, assuming a number\n",
    "# of clusters. Silhouette gives you how many are most unamigously described\n",
    "# by the clusters. Most likely \"real\" number: Where the sum of the\n",
    "# silhouette scores peaks. In reality, they are complementary. Use together"
   ]
  },
  {
   "cell_type": "markdown",
   "id": "36de7fa9-1bf3-4d79-9383-7a71192cff52",
   "metadata": {},
   "source": [
    "optimal number of clusters = 2"
   ]
  },
  {
   "cell_type": "code",
   "execution_count": 12,
   "id": "4d93954d-09dc-4638-a628-6e0539e1f0f4",
   "metadata": {},
   "outputs": [],
   "source": [
    "kMeans = KMeans(n_clusters = 2).fit(X) # compute kmeans\n",
    "cId = kMeans.labels_ # vector of cluster IDs that the row belongs to\n",
    "cCoords = kMeans.cluster_centers_ # coordinate location for center of each cluster\n",
    "s = silhouette_samples(X,cId) # compute the mean silhouette coefficient of all samples\n",
    "\n",
    "cluster_0 = [i for i in range(len(kMeans.labels_)) if kMeans.labels_[i] == 0 ]\n",
    "cluster_1 = [i for i in range(len(kMeans.labels_)) if kMeans.labels_[i] == 1 ]"
   ]
  },
  {
   "cell_type": "code",
   "execution_count": 13,
   "id": "219939e1-20de-4940-8647-64ed248207bd",
   "metadata": {},
   "outputs": [
    {
     "data": {
      "image/png": "[encoded data removed]",
      "text/plain": [
       "<Figure size 432x288 with 6 Axes>"
      ]
     },
     "metadata": {
      "needs_background": "light"
     },
     "output_type": "display_data"
    }
   ],
   "source": [
    "figure, axis = plt.subplots(3, 2)\n",
    "indexVector = np.linspace(1,len(np.unique(cId)),len(np.unique(cId))) \n",
    "for ii in indexVector:\n",
    "    plotIndex = np.argwhere(cId == int(ii-1))\n",
    "\n",
    "    axis[0, 0].plot(origDataNewCoordinates[plotIndex,0],origDataNewCoordinates[plotIndex,1],'o',markersize=1)\n",
    "    axis[0, 0].plot(cCoords[int(ii-1),0],cCoords[int(ii-1),1],'o',markersize=5,color='black')  \n",
    "\n",
    "    axis[0, 1].plot(origDataNewCoordinates[plotIndex,2],origDataNewCoordinates[plotIndex,3],'o',markersize=1)\n",
    "    axis[0, 1].plot(cCoords[int(ii-1),0],cCoords[int(ii-1),1],'o',markersize=5,color='black')  \n",
    "    \n",
    "    axis[1, 0].plot(origDataNewCoordinates[plotIndex,4],origDataNewCoordinates[plotIndex,5],'o',markersize=1)\n",
    "    axis[1, 0].plot(cCoords[int(ii-1),0],cCoords[int(ii-1),1],'o',markersize=5,color='black')  \n",
    "    \n",
    "    axis[1, 1].plot(origDataNewCoordinates[plotIndex,6],origDataNewCoordinates[plotIndex,7],'o',markersize=1)\n",
    "    axis[1, 1].plot(cCoords[int(ii-1),0],cCoords[int(ii-1),1],'o',markersize=5,color='black')  \n",
    "    \n",
    "    axis[2, 0].plot(origDataNewCoordinates[plotIndex,6],origDataNewCoordinates[plotIndex,0],'o',markersize=1)\n",
    "    axis[2, 0].plot(cCoords[int(ii-1),0],cCoords[int(ii-1),1],'o',markersize=5,color='black')  \n",
    "    \n",
    "    axis[2, 1].plot(origDataNewCoordinates[plotIndex,6],origDataNewCoordinates[plotIndex,2],'o',markersize=1)\n",
    "    axis[2, 1].plot(cCoords[int(ii-1),0],cCoords[int(ii-1),1],'o',markersize=5,color='black')  "
   ]
  },
  {
   "cell_type": "markdown",
   "id": "2c97d35a-b101-453d-9791-17b3c2bd1015",
   "metadata": {},
   "source": [
    "## 4 Random Forest Classifier"
   ]
  },
  {
   "cell_type": "code",
   "execution_count": 17,
   "id": "9b3a202f-dc81-4e48-aa50-a6e3d53b8b88",
   "metadata": {},
   "outputs": [],
   "source": [
    "# from sklearn.preprocessing import label_binarize\n",
    "\n",
    "X_train = np.concatenate((X.astype(int),np.expand_dims(cId, -1).astype(int)), axis=1)\n",
    "Y_train = df.iloc[:,0:400]\n",
    "for col in Y_train.columns:\n",
    "    ave = Y_train[col].median()\n",
    "    Y_train[col].fillna(value=ave, inplace=True)\n",
    "\n",
    "Y_train = Y_train.apply(np.floor).astype(int)\n",
    "Y_train = np.array(Y_train)"
   ]
  },
  {
   "cell_type": "code",
   "execution_count": 27,
   "id": "e7dc0af0-8477-4255-b152-4ad85fba9192",
   "metadata": {},
   "outputs": [
    {
     "name": "stdout",
     "output_type": "stream",
     "text": [
      "{'n_estimators': [100, 400, 700, 1000], 'max_features': ['auto', 'sqrt'], 'max_depth': [10, 40, 70, 100, None], 'min_samples_split': [2, 5, 10], 'min_samples_leaf': [1, 2, 4], 'bootstrap': [True, False]}\n"
     ]
    }
   ],
   "source": [
    "from sklearn.model_selection import RandomizedSearchCV\n",
    "n_estimators = [int(x) for x in np.linspace(start = 100, stop = 1000, num = 4)]\n",
    "max_features = ['auto', 'sqrt']\n",
    "max_depth = [int(x) for x in np.linspace(10, 100, num = 4)]\n",
    "max_depth.append(None)\n",
    "min_samples_split = [2, 5, 10]\n",
    "min_samples_leaf = [1, 2, 4]\n",
    "bootstrap = [True, False]\n",
    "random_grid = {'n_estimators': n_estimators,\n",
    "               'max_features': max_features,\n",
    "               'max_depth': max_depth,\n",
    "               'min_samples_split': min_samples_split,\n",
    "               'min_samples_leaf': min_samples_leaf,\n",
    "               'bootstrap': bootstrap}\n",
    "print(random_grid)"
   ]
  },
  {
   "cell_type": "code",
   "execution_count": null,
   "id": "8321247c-8604-455b-944e-fde1658af777",
   "metadata": {},
   "outputs": [],
   "source": [
    "train_loss, test_loss = [],[]\n",
    "kf = KFold(n_splits= 5 ,shuffle=True)\n",
    "\n",
    "for train_index, test_index in kf.split(X):\n",
    "    x_train, x_test = X_train[train_index], X_train[test_index]\n",
    "    y_train, y_test = Y_train[train_index], Y_train[test_index]\n",
    "    \n",
    "    model = RandomForestClassifier()\n",
    "    rf_GridSearch = RandomizedSearchCV(estimator = model, param_distributions = random_grid, n_iter = 10, cv = 3, n_jobs = -1).fit(x_train, y_train)\n",
    "    y_pred = rf_GridSearch.predict(x_test)\n",
    "    y_pred_train = rf_GridSearch.predict(x_train)\n",
    "\n",
    "    train_loss_fold, test_loss_fold = [],[]\n",
    "    for i in range(x_train.shape[0]):\n",
    "        train_loss_fold.append(accuracy_score(y_train[i,:],y_pred_train[i,:]))\n",
    "        \n",
    "    for i in range(x_test.shape[0]):\n",
    "        test_loss_fold.append(accuracy_score(y_test[i,:],y_pred[i,:]))\n",
    "        \n",
    "    test_loss.append(sum(test_loss_fold)/x_test.shape[0])\n",
    "    train_loss.append(sum(train_loss_fold)/x_train.shape[0])"
   ]
  },
  {
   "cell_type": "code",
   "execution_count": 29,
   "id": "7c6929be-345b-4f46-93ce-b4bbadd939c3",
   "metadata": {},
   "outputs": [
    {
     "data": {
      "text/plain": [
       "<matplotlib.legend.Legend at 0x7fbd27e86fa0>"
      ]
     },
     "execution_count": 29,
     "metadata": {},
     "output_type": "execute_result"
    },
    {
     "data": {
      "image/png": "[encoded data removed]",
      "text/plain": [
       "<Figure size 432x288 with 1 Axes>"
      ]
     },
     "metadata": {
      "needs_background": "light"
     },
     "output_type": "display_data"
    }
   ],
   "source": [
    "plt.plot(range(5), train_loss, 'blue', label='Training ACC')\n",
    "plt.plot(range(5), test_loss, \"red\", label='validation ACC')\n",
    "plt.xlabel(\"fold\")\n",
    "plt.legend()"
   ]
  },
  {
   "cell_type": "markdown",
   "id": "90e14b17-0dae-41df-b90b-3b36bf0699eb",
   "metadata": {},
   "source": [
    "## 5"
   ]
  },
  {
   "cell_type": "code",
   "execution_count": 48,
   "id": "f996af00-9d31-4e6e-9fdf-2a6497552cf0",
   "metadata": {},
   "outputs": [],
   "source": [
    "import torch.nn as nn\n",
    "import torch.nn.functional as F\n",
    "import torch"
   ]
  },
  {
   "cell_type": "code",
   "execution_count": 49,
   "id": "8ab4b222-74f8-49e0-8993-0dd0116c679a",
   "metadata": {},
   "outputs": [],
   "source": [
    "class Net(nn.Module):\n",
    "    def __init__(self):\n",
    "        super().__init__()\n",
    "        self.fc1 = nn.Linear(9, 128)\n",
    "        self.fc2 = nn.Linear(128, 256)\n",
    "        self.fc3 = nn.Linear(256, 512)\n",
    "        self.fc4 = nn.Linear(512, 1024)\n",
    "        self.fc5 = nn.Linear(1024, 512)\n",
    "        self.fc6 = nn.Linear(512, 400)\n",
    "        self.bn1 = nn.BatchNorm1d(128)\n",
    "        self.bn2 = nn.BatchNorm1d(512)\n",
    "\n",
    "    def forward(self, x):\n",
    "        x = self.fc1(x)\n",
    "        x = self.bn1(x)\n",
    "        \n",
    "        x = F.relu(self.fc2(x))\n",
    "        x = F.relu(self.fc3(x))\n",
    "        \n",
    "        x = self.bn2(x)\n",
    "        \n",
    "        x = F.relu(self.fc4(x))\n",
    "        x = F.relu(self.fc5(x))\n",
    "        x = self.fc6(x)\n",
    "        return x\n",
    "net = Net()"
   ]
  },
  {
   "cell_type": "code",
   "execution_count": 50,
   "id": "374db516-df9e-433e-abc0-53bf0cc2c7f5",
   "metadata": {},
   "outputs": [],
   "source": [
    "from torch.utils.data import Dataset, DataLoader\n",
    "from sklearn.model_selection import train_test_split\n",
    "class MovieDataset(Dataset):\n",
    "    def __init__(self, X, Y):\n",
    "        self.X = X\n",
    "        self.y = Y\n",
    "        \n",
    "    def __len__(self):\n",
    "        return len(self.y)\n",
    "    \n",
    "    def __getitem__(self, idx):\n",
    "        return self.X[idx].float(),self.y[idx].float()\n",
    "    "
   ]
  },
  {
   "cell_type": "code",
   "execution_count": 51,
   "id": "a14a6b9f-0f65-4b7b-b76d-ae3a388287be",
   "metadata": {},
   "outputs": [],
   "source": [
    "X_train = np.concatenate((X.astype(int),np.expand_dims(cId, -1).astype(int)), axis=1)\n",
    "Y_train = df.iloc[:,0:400]\n",
    "for col in Y_train.columns:\n",
    "    ave = Y_train[col].median()\n",
    "    Y_train[col].fillna(value=ave, inplace=True)\n",
    "\n",
    "Y_train = Y_train.apply(np.floor).astype(int)\n",
    "Y_train = torch.from_numpy(np.array(Y_train))\n",
    "X_train = torch.from_numpy(X_train)\n",
    "X_train, X_test, y_train, y_test = train_test_split(X_train, Y_train, test_size=0.1, random_state=42)\n",
    "train_ds = MovieDataset(X_train, y_train)\n",
    "valid_ds = MovieDataset(X_test, y_test)\n",
    "batch_size = 128\n",
    "train_dataloader = DataLoader(train_ds, batch_size=batch_size, shuffle=True)\n",
    "test_dataloader = DataLoader(valid_ds, batch_size=batch_size, shuffle=True)"
   ]
  },
  {
   "cell_type": "code",
   "execution_count": 52,
   "id": "9d2e7bf9-42f7-4905-a190-e55eaa8f3d37",
   "metadata": {},
   "outputs": [],
   "source": [
    "import torch.optim as optim\n",
    "\n",
    "criterion = nn.MSELoss()\n",
    "optimizer = optim.Adam(net.parameters(), lr=0.001, weight_decay = 0.1)"
   ]
  },
  {
   "cell_type": "code",
   "execution_count": 53,
   "id": "7e8d48c3-5c14-43cd-838d-e04e944bcc60",
   "metadata": {},
   "outputs": [],
   "source": [
    "def val_eval(model, valid_dl):\n",
    "    model.eval()\n",
    "    running_loss = 0.0\n",
    "    correct = 0\n",
    "    for x, y in valid_dl:\n",
    "        current_batch_size = y.shape[0]\n",
    "        outputs = net(x)\n",
    "        loss = criterion(outputs, y)\n",
    "        running_loss += loss.item()\n",
    "        correct += (torch.round(outputs) == y).float().sum().item()/400\n",
    "        \n",
    "    print(\"valid loss %.3f and accuracy %.3f\" % (running_loss/(len(test_dataloader)*batch_size), correct/(len(test_dataloader)*batch_size)))\n",
    "    return running_loss//(len(test_dataloader)*batch_size), correct//(len(test_dataloader)*batch_size)"
   ]
  },
  {
   "cell_type": "code",
   "execution_count": 54,
   "id": "c44bb13d-59f9-44cd-998a-cf47033ef0c9",
   "metadata": {},
   "outputs": [
    {
     "name": "stdout",
     "output_type": "stream",
     "text": [
      "Epoch:  10\n",
      "Train loss 0.00035 and accuracy 0.76373\n",
      "valid loss 0.005 and accuracy 0.325\n",
      "Epoch:  20\n",
      "Train loss 0.00035 and accuracy 0.80944\n",
      "valid loss 0.002 and accuracy 0.723\n",
      "Epoch:  30\n",
      "Train loss 0.00038 and accuracy 0.78316\n",
      "valid loss 0.002 and accuracy 0.715\n",
      "Epoch:  40\n",
      "Train loss 0.00030 and accuracy 0.80465\n",
      "valid loss 0.002 and accuracy 0.724\n",
      "Epoch:  50\n",
      "Train loss 0.00034 and accuracy 0.81031\n",
      "valid loss 0.002 and accuracy 0.724\n",
      "Epoch:  60\n",
      "Train loss 0.00037 and accuracy 0.80865\n",
      "valid loss 0.003 and accuracy 0.716\n",
      "Epoch:  70\n",
      "Train loss 0.00027 and accuracy 0.80893\n",
      "valid loss 0.002 and accuracy 0.725\n",
      "Epoch:  80\n",
      "Train loss 0.00029 and accuracy 0.80888\n",
      "valid loss 0.002 and accuracy 0.724\n",
      "Epoch:  90\n",
      "Train loss 0.00032 and accuracy 0.80986\n",
      "valid loss 0.002 and accuracy 0.725\n",
      "Epoch:  100\n",
      "Train loss 0.00024 and accuracy 0.80986\n",
      "valid loss 0.002 and accuracy 0.725\n",
      "Epoch:  110\n",
      "Train loss 0.00025 and accuracy 0.80988\n",
      "valid loss 0.002 and accuracy 0.724\n",
      "Epoch:  120\n",
      "Train loss 0.00035 and accuracy 0.80852\n",
      "valid loss 0.002 and accuracy 0.723\n",
      "Epoch:  130\n",
      "Train loss 0.00032 and accuracy 0.80985\n",
      "valid loss 0.002 and accuracy 0.724\n",
      "Epoch:  140\n",
      "Train loss 0.00029 and accuracy 0.80983\n",
      "valid loss 0.002 and accuracy 0.724\n",
      "Epoch:  150\n",
      "Train loss 0.00031 and accuracy 0.80939\n",
      "valid loss 0.002 and accuracy 0.725\n",
      "Epoch:  160\n",
      "Train loss 0.00033 and accuracy 0.80955\n",
      "valid loss 0.002 and accuracy 0.725\n",
      "Epoch:  170\n",
      "Train loss 0.00024 and accuracy 0.80957\n",
      "valid loss 0.002 and accuracy 0.725\n",
      "Epoch:  180\n",
      "Train loss 0.00028 and accuracy 0.81016\n",
      "valid loss 0.002 and accuracy 0.725\n",
      "Epoch:  190\n",
      "Train loss 0.00031 and accuracy 0.81042\n",
      "valid loss 0.002 and accuracy 0.724\n",
      "Epoch:  200\n",
      "Train loss 0.00036 and accuracy 0.80994\n",
      "valid loss 0.002 and accuracy 0.725\n",
      "Finished Training\n"
     ]
    }
   ],
   "source": [
    "from sklearn.model_selection import train_test_split\n",
    "\n",
    "\n",
    "n_epoch = 200\n",
    "for epoch in range(n_epoch):\n",
    "    correct = 0\n",
    "    for x,y in train_dataloader:\n",
    "\n",
    "        running_loss = 0.0\n",
    "        optimizer.zero_grad()\n",
    "        outputs = net(x)\n",
    "        loss = criterion(outputs, y)\n",
    "        loss.backward()\n",
    "        optimizer.step()\n",
    "        running_loss += loss.item()\n",
    "        correct += (torch.round(outputs) == y).float().sum().item()/400\n",
    "        \n",
    "    if epoch % 10 == 9:   \n",
    "        print(\"Epoch: \",epoch+1)\n",
    "        print(\"Train loss %.5f and accuracy %.5f\" % (running_loss/(len(train_dataloader)*batch_size), correct/(len(train_dataloader)*batch_size)))\n",
    "        running_loss = 0.0\n",
    "        val_eval(net, test_dataloader)\n",
    "print('Finished Training')"
   ]
  }
 ],
 "metadata": {
  "kernelspec": {
   "display_name": "Python 3",
   "language": "python",
   "name": "python3"
  },
  "language_info": {
   "codemirror_mode": {
    "name": "ipython",
    "version": 3
   },
   "file_extension": ".py",
   "mimetype": "text/x-python",
   "name": "python",
   "nbconvert_exporter": "python",
   "pygments_lexer": "ipython3",
   "version": "3.8.8"
  }
 },
 "nbformat": 4,
 "nbformat_minor": 5
}
