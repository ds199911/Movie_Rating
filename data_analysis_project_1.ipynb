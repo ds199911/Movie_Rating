{
 "cells": [
  {
   "cell_type": "code",
   "execution_count": 1,
   "id": "e93fd231-5113-4b22-af34-0b99bdb91604",
   "metadata": {},
   "outputs": [],
   "source": [
    "import pandas as pd\n",
    "import numpy as np\n",
    "from scipy import stats"
   ]
  },
  {
   "cell_type": "code",
   "execution_count": 2,
   "id": "00966d59-d2b3-480e-a01b-e61524b7e430",
   "metadata": {},
   "outputs": [
    {
     "data": {
      "text/html": [
       "<div>\n",
       "<style scoped>\n",
       "    .dataframe tbody tr th:only-of-type {\n",
       "        vertical-align: middle;\n",
       "    }\n",
       "\n",
       "    .dataframe tbody tr th {\n",
       "        vertical-align: top;\n",
       "    }\n",
       "\n",
       "    .dataframe thead th {\n",
       "        text-align: right;\n",
       "    }\n",
       "</style>\n",
       "<table border=\"1\" class=\"dataframe\">\n",
       "  <thead>\n",
       "    <tr style=\"text-align: right;\">\n",
       "      <th></th>\n",
       "      <th>The Life of David Gale (2003)</th>\n",
       "      <th>Wing Commander (1999)</th>\n",
       "      <th>Django Unchained (2012)</th>\n",
       "      <th>Alien (1979)</th>\n",
       "      <th>Indiana Jones and the Last Crusade (1989)</th>\n",
       "      <th>Snatch (2000)</th>\n",
       "      <th>Rambo: First Blood Part II</th>\n",
       "      <th>Fargo (1996)</th>\n",
       "      <th>Let the Right One In (2008)</th>\n",
       "      <th>Black Swan (2010)</th>\n",
       "      <th>...</th>\n",
       "      <th>When watching a movie I cheer or shout or talk or curse at the screen</th>\n",
       "      <th>When watching a movie I feel like the things on the screen are happening to me</th>\n",
       "      <th>As a movie unfolds I start to have problems keeping track of events that happened earlier</th>\n",
       "      <th>The emotions on the screen \"rub off\" on me - for instance if something sad is happening I get sad or if something frightening is happening I get scared</th>\n",
       "      <th>When watching a movie I get completely immersed in the alternative reality of the film</th>\n",
       "      <th>Movies change my position on social economic or political issues</th>\n",
       "      <th>When watching movies things get so intense that I have to stop watching</th>\n",
       "      <th>Gender identity (1 = female; 2 = male; 3 = self-described)</th>\n",
       "      <th>Are you an only child? (1: Yes; 0: No; -1: Did not respond)</th>\n",
       "      <th>Movies are best enjoyed alone (1: Yes; 0: No; -1: Did not respond)</th>\n",
       "    </tr>\n",
       "  </thead>\n",
       "  <tbody>\n",
       "    <tr>\n",
       "      <th>0</th>\n",
       "      <td>NaN</td>\n",
       "      <td>NaN</td>\n",
       "      <td>4.0</td>\n",
       "      <td>NaN</td>\n",
       "      <td>3.0</td>\n",
       "      <td>NaN</td>\n",
       "      <td>NaN</td>\n",
       "      <td>NaN</td>\n",
       "      <td>NaN</td>\n",
       "      <td>NaN</td>\n",
       "      <td>...</td>\n",
       "      <td>1.0</td>\n",
       "      <td>6.0</td>\n",
       "      <td>2.0</td>\n",
       "      <td>5.0</td>\n",
       "      <td>5.0</td>\n",
       "      <td>5.0</td>\n",
       "      <td>1.0</td>\n",
       "      <td>1.0</td>\n",
       "      <td>0</td>\n",
       "      <td>1</td>\n",
       "    </tr>\n",
       "    <tr>\n",
       "      <th>1</th>\n",
       "      <td>NaN</td>\n",
       "      <td>NaN</td>\n",
       "      <td>1.5</td>\n",
       "      <td>NaN</td>\n",
       "      <td>NaN</td>\n",
       "      <td>NaN</td>\n",
       "      <td>NaN</td>\n",
       "      <td>NaN</td>\n",
       "      <td>NaN</td>\n",
       "      <td>NaN</td>\n",
       "      <td>...</td>\n",
       "      <td>3.0</td>\n",
       "      <td>1.0</td>\n",
       "      <td>1.0</td>\n",
       "      <td>6.0</td>\n",
       "      <td>5.0</td>\n",
       "      <td>3.0</td>\n",
       "      <td>2.0</td>\n",
       "      <td>1.0</td>\n",
       "      <td>0</td>\n",
       "      <td>0</td>\n",
       "    </tr>\n",
       "    <tr>\n",
       "      <th>2</th>\n",
       "      <td>NaN</td>\n",
       "      <td>NaN</td>\n",
       "      <td>NaN</td>\n",
       "      <td>NaN</td>\n",
       "      <td>NaN</td>\n",
       "      <td>NaN</td>\n",
       "      <td>NaN</td>\n",
       "      <td>NaN</td>\n",
       "      <td>NaN</td>\n",
       "      <td>NaN</td>\n",
       "      <td>...</td>\n",
       "      <td>5.0</td>\n",
       "      <td>4.0</td>\n",
       "      <td>3.0</td>\n",
       "      <td>5.0</td>\n",
       "      <td>5.0</td>\n",
       "      <td>4.0</td>\n",
       "      <td>4.0</td>\n",
       "      <td>1.0</td>\n",
       "      <td>1</td>\n",
       "      <td>0</td>\n",
       "    </tr>\n",
       "    <tr>\n",
       "      <th>3</th>\n",
       "      <td>NaN</td>\n",
       "      <td>NaN</td>\n",
       "      <td>2.0</td>\n",
       "      <td>NaN</td>\n",
       "      <td>3.0</td>\n",
       "      <td>NaN</td>\n",
       "      <td>NaN</td>\n",
       "      <td>NaN</td>\n",
       "      <td>NaN</td>\n",
       "      <td>4.0</td>\n",
       "      <td>...</td>\n",
       "      <td>3.0</td>\n",
       "      <td>1.0</td>\n",
       "      <td>1.0</td>\n",
       "      <td>4.0</td>\n",
       "      <td>5.0</td>\n",
       "      <td>3.0</td>\n",
       "      <td>1.0</td>\n",
       "      <td>1.0</td>\n",
       "      <td>0</td>\n",
       "      <td>1</td>\n",
       "    </tr>\n",
       "    <tr>\n",
       "      <th>4</th>\n",
       "      <td>NaN</td>\n",
       "      <td>NaN</td>\n",
       "      <td>3.5</td>\n",
       "      <td>NaN</td>\n",
       "      <td>0.5</td>\n",
       "      <td>NaN</td>\n",
       "      <td>0.5</td>\n",
       "      <td>1.0</td>\n",
       "      <td>NaN</td>\n",
       "      <td>0.0</td>\n",
       "      <td>...</td>\n",
       "      <td>2.0</td>\n",
       "      <td>3.0</td>\n",
       "      <td>2.0</td>\n",
       "      <td>5.0</td>\n",
       "      <td>6.0</td>\n",
       "      <td>4.0</td>\n",
       "      <td>4.0</td>\n",
       "      <td>1.0</td>\n",
       "      <td>1</td>\n",
       "      <td>1</td>\n",
       "    </tr>\n",
       "    <tr>\n",
       "      <th>...</th>\n",
       "      <td>...</td>\n",
       "      <td>...</td>\n",
       "      <td>...</td>\n",
       "      <td>...</td>\n",
       "      <td>...</td>\n",
       "      <td>...</td>\n",
       "      <td>...</td>\n",
       "      <td>...</td>\n",
       "      <td>...</td>\n",
       "      <td>...</td>\n",
       "      <td>...</td>\n",
       "      <td>...</td>\n",
       "      <td>...</td>\n",
       "      <td>...</td>\n",
       "      <td>...</td>\n",
       "      <td>...</td>\n",
       "      <td>...</td>\n",
       "      <td>...</td>\n",
       "      <td>...</td>\n",
       "      <td>...</td>\n",
       "      <td>...</td>\n",
       "    </tr>\n",
       "    <tr>\n",
       "      <th>1092</th>\n",
       "      <td>NaN</td>\n",
       "      <td>NaN</td>\n",
       "      <td>NaN</td>\n",
       "      <td>NaN</td>\n",
       "      <td>3.5</td>\n",
       "      <td>NaN</td>\n",
       "      <td>NaN</td>\n",
       "      <td>NaN</td>\n",
       "      <td>NaN</td>\n",
       "      <td>NaN</td>\n",
       "      <td>...</td>\n",
       "      <td>3.0</td>\n",
       "      <td>4.0</td>\n",
       "      <td>3.0</td>\n",
       "      <td>5.0</td>\n",
       "      <td>5.0</td>\n",
       "      <td>4.0</td>\n",
       "      <td>4.0</td>\n",
       "      <td>1.0</td>\n",
       "      <td>0</td>\n",
       "      <td>0</td>\n",
       "    </tr>\n",
       "    <tr>\n",
       "      <th>1093</th>\n",
       "      <td>3.0</td>\n",
       "      <td>4.0</td>\n",
       "      <td>NaN</td>\n",
       "      <td>NaN</td>\n",
       "      <td>4.0</td>\n",
       "      <td>4.0</td>\n",
       "      <td>2.5</td>\n",
       "      <td>NaN</td>\n",
       "      <td>3.5</td>\n",
       "      <td>3.5</td>\n",
       "      <td>...</td>\n",
       "      <td>5.0</td>\n",
       "      <td>3.0</td>\n",
       "      <td>5.0</td>\n",
       "      <td>5.0</td>\n",
       "      <td>5.0</td>\n",
       "      <td>6.0</td>\n",
       "      <td>5.0</td>\n",
       "      <td>1.0</td>\n",
       "      <td>0</td>\n",
       "      <td>0</td>\n",
       "    </tr>\n",
       "    <tr>\n",
       "      <th>1094</th>\n",
       "      <td>NaN</td>\n",
       "      <td>NaN</td>\n",
       "      <td>NaN</td>\n",
       "      <td>NaN</td>\n",
       "      <td>NaN</td>\n",
       "      <td>NaN</td>\n",
       "      <td>NaN</td>\n",
       "      <td>3.5</td>\n",
       "      <td>NaN</td>\n",
       "      <td>NaN</td>\n",
       "      <td>...</td>\n",
       "      <td>6.0</td>\n",
       "      <td>3.0</td>\n",
       "      <td>1.0</td>\n",
       "      <td>6.0</td>\n",
       "      <td>6.0</td>\n",
       "      <td>4.0</td>\n",
       "      <td>2.0</td>\n",
       "      <td>1.0</td>\n",
       "      <td>0</td>\n",
       "      <td>0</td>\n",
       "    </tr>\n",
       "    <tr>\n",
       "      <th>1095</th>\n",
       "      <td>NaN</td>\n",
       "      <td>NaN</td>\n",
       "      <td>NaN</td>\n",
       "      <td>NaN</td>\n",
       "      <td>NaN</td>\n",
       "      <td>NaN</td>\n",
       "      <td>NaN</td>\n",
       "      <td>NaN</td>\n",
       "      <td>NaN</td>\n",
       "      <td>NaN</td>\n",
       "      <td>...</td>\n",
       "      <td>1.0</td>\n",
       "      <td>1.0</td>\n",
       "      <td>1.0</td>\n",
       "      <td>4.0</td>\n",
       "      <td>3.0</td>\n",
       "      <td>3.0</td>\n",
       "      <td>1.0</td>\n",
       "      <td>1.0</td>\n",
       "      <td>0</td>\n",
       "      <td>1</td>\n",
       "    </tr>\n",
       "    <tr>\n",
       "      <th>1096</th>\n",
       "      <td>NaN</td>\n",
       "      <td>NaN</td>\n",
       "      <td>4.0</td>\n",
       "      <td>NaN</td>\n",
       "      <td>2.5</td>\n",
       "      <td>NaN</td>\n",
       "      <td>NaN</td>\n",
       "      <td>3.0</td>\n",
       "      <td>NaN</td>\n",
       "      <td>3.5</td>\n",
       "      <td>...</td>\n",
       "      <td>3.0</td>\n",
       "      <td>4.0</td>\n",
       "      <td>1.0</td>\n",
       "      <td>4.0</td>\n",
       "      <td>4.0</td>\n",
       "      <td>4.0</td>\n",
       "      <td>1.0</td>\n",
       "      <td>1.0</td>\n",
       "      <td>0</td>\n",
       "      <td>1</td>\n",
       "    </tr>\n",
       "  </tbody>\n",
       "</table>\n",
       "<p>1097 rows × 477 columns</p>\n",
       "</div>"
      ],
      "text/plain": [
       "      The Life of David Gale (2003)  Wing Commander (1999)  \\\n",
       "0                               NaN                    NaN   \n",
       "1                               NaN                    NaN   \n",
       "2                               NaN                    NaN   \n",
       "3                               NaN                    NaN   \n",
       "4                               NaN                    NaN   \n",
       "...                             ...                    ...   \n",
       "1092                            NaN                    NaN   \n",
       "1093                            3.0                    4.0   \n",
       "1094                            NaN                    NaN   \n",
       "1095                            NaN                    NaN   \n",
       "1096                            NaN                    NaN   \n",
       "\n",
       "      Django Unchained (2012)  Alien (1979)  \\\n",
       "0                         4.0           NaN   \n",
       "1                         1.5           NaN   \n",
       "2                         NaN           NaN   \n",
       "3                         2.0           NaN   \n",
       "4                         3.5           NaN   \n",
       "...                       ...           ...   \n",
       "1092                      NaN           NaN   \n",
       "1093                      NaN           NaN   \n",
       "1094                      NaN           NaN   \n",
       "1095                      NaN           NaN   \n",
       "1096                      4.0           NaN   \n",
       "\n",
       "      Indiana Jones and the Last Crusade (1989)  Snatch (2000)  \\\n",
       "0                                           3.0            NaN   \n",
       "1                                           NaN            NaN   \n",
       "2                                           NaN            NaN   \n",
       "3                                           3.0            NaN   \n",
       "4                                           0.5            NaN   \n",
       "...                                         ...            ...   \n",
       "1092                                        3.5            NaN   \n",
       "1093                                        4.0            4.0   \n",
       "1094                                        NaN            NaN   \n",
       "1095                                        NaN            NaN   \n",
       "1096                                        2.5            NaN   \n",
       "\n",
       "      Rambo: First Blood Part II  Fargo (1996)  Let the Right One In (2008)  \\\n",
       "0                            NaN           NaN                          NaN   \n",
       "1                            NaN           NaN                          NaN   \n",
       "2                            NaN           NaN                          NaN   \n",
       "3                            NaN           NaN                          NaN   \n",
       "4                            0.5           1.0                          NaN   \n",
       "...                          ...           ...                          ...   \n",
       "1092                         NaN           NaN                          NaN   \n",
       "1093                         2.5           NaN                          3.5   \n",
       "1094                         NaN           3.5                          NaN   \n",
       "1095                         NaN           NaN                          NaN   \n",
       "1096                         NaN           3.0                          NaN   \n",
       "\n",
       "      Black Swan (2010)  ...  \\\n",
       "0                   NaN  ...   \n",
       "1                   NaN  ...   \n",
       "2                   NaN  ...   \n",
       "3                   4.0  ...   \n",
       "4                   0.0  ...   \n",
       "...                 ...  ...   \n",
       "1092                NaN  ...   \n",
       "1093                3.5  ...   \n",
       "1094                NaN  ...   \n",
       "1095                NaN  ...   \n",
       "1096                3.5  ...   \n",
       "\n",
       "      When watching a movie I cheer or shout or talk or curse at the screen  \\\n",
       "0                                                   1.0                       \n",
       "1                                                   3.0                       \n",
       "2                                                   5.0                       \n",
       "3                                                   3.0                       \n",
       "4                                                   2.0                       \n",
       "...                                                 ...                       \n",
       "1092                                                3.0                       \n",
       "1093                                                5.0                       \n",
       "1094                                                6.0                       \n",
       "1095                                                1.0                       \n",
       "1096                                                3.0                       \n",
       "\n",
       "      When watching a movie I feel like the things on the screen are happening to me  \\\n",
       "0                                                   6.0                                \n",
       "1                                                   1.0                                \n",
       "2                                                   4.0                                \n",
       "3                                                   1.0                                \n",
       "4                                                   3.0                                \n",
       "...                                                 ...                                \n",
       "1092                                                4.0                                \n",
       "1093                                                3.0                                \n",
       "1094                                                3.0                                \n",
       "1095                                                1.0                                \n",
       "1096                                                4.0                                \n",
       "\n",
       "      As a movie unfolds I start to have problems keeping track of events that happened earlier  \\\n",
       "0                                                   2.0                                           \n",
       "1                                                   1.0                                           \n",
       "2                                                   3.0                                           \n",
       "3                                                   1.0                                           \n",
       "4                                                   2.0                                           \n",
       "...                                                 ...                                           \n",
       "1092                                                3.0                                           \n",
       "1093                                                5.0                                           \n",
       "1094                                                1.0                                           \n",
       "1095                                                1.0                                           \n",
       "1096                                                1.0                                           \n",
       "\n",
       "      The emotions on the screen \"rub off\" on me - for instance if something sad is happening I get sad or if something frightening is happening I get scared  \\\n",
       "0                                                   5.0                                                                                                         \n",
       "1                                                   6.0                                                                                                         \n",
       "2                                                   5.0                                                                                                         \n",
       "3                                                   4.0                                                                                                         \n",
       "4                                                   5.0                                                                                                         \n",
       "...                                                 ...                                                                                                         \n",
       "1092                                                5.0                                                                                                         \n",
       "1093                                                5.0                                                                                                         \n",
       "1094                                                6.0                                                                                                         \n",
       "1095                                                4.0                                                                                                         \n",
       "1096                                                4.0                                                                                                         \n",
       "\n",
       "      When watching a movie I get completely immersed in the alternative reality of the film  \\\n",
       "0                                                   5.0                                        \n",
       "1                                                   5.0                                        \n",
       "2                                                   5.0                                        \n",
       "3                                                   5.0                                        \n",
       "4                                                   6.0                                        \n",
       "...                                                 ...                                        \n",
       "1092                                                5.0                                        \n",
       "1093                                                5.0                                        \n",
       "1094                                                6.0                                        \n",
       "1095                                                3.0                                        \n",
       "1096                                                4.0                                        \n",
       "\n",
       "      Movies change my position on social economic or political issues  \\\n",
       "0                                                   5.0                  \n",
       "1                                                   3.0                  \n",
       "2                                                   4.0                  \n",
       "3                                                   3.0                  \n",
       "4                                                   4.0                  \n",
       "...                                                 ...                  \n",
       "1092                                                4.0                  \n",
       "1093                                                6.0                  \n",
       "1094                                                4.0                  \n",
       "1095                                                3.0                  \n",
       "1096                                                4.0                  \n",
       "\n",
       "      When watching movies things get so intense that I have to stop watching  \\\n",
       "0                                                   1.0                         \n",
       "1                                                   2.0                         \n",
       "2                                                   4.0                         \n",
       "3                                                   1.0                         \n",
       "4                                                   4.0                         \n",
       "...                                                 ...                         \n",
       "1092                                                4.0                         \n",
       "1093                                                5.0                         \n",
       "1094                                                2.0                         \n",
       "1095                                                1.0                         \n",
       "1096                                                1.0                         \n",
       "\n",
       "      Gender identity (1 = female; 2 = male; 3 = self-described)  \\\n",
       "0                                                   1.0            \n",
       "1                                                   1.0            \n",
       "2                                                   1.0            \n",
       "3                                                   1.0            \n",
       "4                                                   1.0            \n",
       "...                                                 ...            \n",
       "1092                                                1.0            \n",
       "1093                                                1.0            \n",
       "1094                                                1.0            \n",
       "1095                                                1.0            \n",
       "1096                                                1.0            \n",
       "\n",
       "      Are you an only child? (1: Yes; 0: No; -1: Did not respond)  \\\n",
       "0                                                     0             \n",
       "1                                                     0             \n",
       "2                                                     1             \n",
       "3                                                     0             \n",
       "4                                                     1             \n",
       "...                                                 ...             \n",
       "1092                                                  0             \n",
       "1093                                                  0             \n",
       "1094                                                  0             \n",
       "1095                                                  0             \n",
       "1096                                                  0             \n",
       "\n",
       "      Movies are best enjoyed alone (1: Yes; 0: No; -1: Did not respond)  \n",
       "0                                                     1                   \n",
       "1                                                     0                   \n",
       "2                                                     0                   \n",
       "3                                                     1                   \n",
       "4                                                     1                   \n",
       "...                                                 ...                   \n",
       "1092                                                  0                   \n",
       "1093                                                  0                   \n",
       "1094                                                  0                   \n",
       "1095                                                  1                   \n",
       "1096                                                  1                   \n",
       "\n",
       "[1097 rows x 477 columns]"
      ]
     },
     "execution_count": 2,
     "metadata": {},
     "output_type": "execute_result"
    }
   ],
   "source": [
    "df = pd.read_csv(\"movieReplicationSet.csv\")\n",
    "df"
   ]
  },
  {
   "cell_type": "markdown",
   "id": "dc0ba1e7-48ac-452f-a6a2-b68dd64a3a9b",
   "metadata": {},
   "source": [
    "Questions corporate would like you to answer in the report (each is worth 10% of the grade score):\n",
    "1) Are movies that are more popular (operationalized as having more ratings) rated higher than movies that are less popular? [Hint: You can do a median-split of popularity to determine high vs. low popularity movies] \n",
    "2) Are movies that are newer rated differently than movies that are older? [Hint: Do a median split of year of release to contrast movies in terms of whether they are old or new]\n",
    "3) Is enjoyment of ‘Shrek (2001)’ gendered, i.e. do male and female viewers rate it differently?\n",
    "4) What proportion of movies are rated differently by male and female viewers?\n",
    "5) Do people who are only children enjoy ‘The Lion King (1994)’ more than people with siblings?\n",
    "6) What proportion of movies exhibit an “only child effect”, i.e. are rated different by viewers with siblings vs. those without?\n",
    "7) Do people who like to watch movies socially enjoy ‘The Wolf of Wall Street (2013)’ more than those who prefer to watch them alone?\n",
    "8) What proportion of movies exhibit such a “social watching” effect?\n",
    "9) Is the ratings distribution of ‘Home Alone (1990)’ different than that of ‘Finding Nemo (2003)’?\n",
    "10) There are ratings on movies from several franchises ([‘Star Wars’, ‘Harry Potter’, ‘The Matrix’, ‘Indiana Jones’, ‘Jurassic Park’, ‘Pirates of the Caribbean’, ‘Toy Story’, ‘Batman’]) in this dataset. How many of these are of inconsistent quality, as experienced by viewers? [Hint: You can use the keywords in quotation marks featured in this question to identify the movies that are part of each franchise]\n",
    "\n",
    "Extra Credit: Tell us something interesting and true (supported by a significance test of some kind) about the movies in this dataset that is not already covered by the questions above [for 5% of the grade score]."
   ]
  },
  {
   "cell_type": "markdown",
   "id": "e304dd6c-c2e4-4107-b791-bf30c2fc0950",
   "metadata": {},
   "source": [
    "# 1) Are movies that are more popular (operationalized as having more ratings) rated higher than movies that are less popular? [Hint: You can do a median-split of popularity to determine high vs. low popularity movies] "
   ]
  },
  {
   "cell_type": "code",
   "execution_count": 3,
   "id": "9264f7d6-a74c-4aee-b85e-6fb615e3e853",
   "metadata": {},
   "outputs": [],
   "source": [
    "num_rating = 1097 - df.iloc[:,0:400].isnull().sum() \n",
    "popularity = num_rating > num_rating.median()"
   ]
  },
  {
   "cell_type": "code",
   "execution_count": 15,
   "id": "c0f8b562-cf63-4fb8-9c68-576541e22bb8",
   "metadata": {},
   "outputs": [
    {
     "data": {
      "text/plain": [
       "MannwhitneyuResult(statistic=array([1.24280814e+09]), pvalue=array([0.]))"
      ]
     },
     "metadata": {},
     "output_type": "display_data"
    },
    {
     "name": "stdout",
     "output_type": "stream",
     "text": [
      "p < 0.005，Reject the null hypothesis\n",
      "movies that are more popular is not rated higher than movies that are less popular\n"
     ]
    }
   ],
   "source": [
    "more = pd.DataFrame()\n",
    "less = pd.DataFrame()\n",
    "for i in range(len(popularity)):\n",
    "    if popularity[i] == True:\n",
    "        more = pd.concat([more,df.iloc[:,i][df.iloc[:,i].isnull()==False]])\n",
    "    else:\n",
    "        less = pd.concat([less, df.iloc[:,i][df.iloc[:,i].isnull()==False]])\n",
    "\n",
    "res = stats.mannwhitneyu(more, less, alternative = \"greater\")\n",
    "display(res)\n",
    "print(\"p < 0.005，Reject the null hypothesis\")\n",
    "print('movies that are more popular is not rated higher than movies that are less popular')"
   ]
  },
  {
   "cell_type": "markdown",
   "id": "43b15f40-afdb-4f58-9444-838fa168b11a",
   "metadata": {},
   "source": [
    "# 2) Are movies that are newer rated differently than movies that are older? [Hint: Do a median split of year of release to contrast movies in terms of whether they are old or new]"
   ]
  },
  {
   "cell_type": "code",
   "execution_count": 5,
   "id": "c7dcdbfb-109f-437d-abd0-381f31a99760",
   "metadata": {},
   "outputs": [
    {
     "data": {
      "text/plain": [
       "MannwhitneyuResult(statistic=array([7.31215111e+08]), pvalue=array([0.]))"
      ]
     },
     "metadata": {},
     "output_type": "display_data"
    },
    {
     "name": "stdout",
     "output_type": "stream",
     "text": [
      "movies that are newer is rated differently than movies that are older\n"
     ]
    }
   ],
   "source": [
    "years = pd.DataFrame()\n",
    "for i, name in enumerate(df.iloc[:,0:400].columns):\n",
    "    year = [int(s[0:-1][1::]) for s in name.split() if s[0:-1][1::].isdigit()]\n",
    "    if len(year) > 0:\n",
    "        years = pd.concat([years, pd.DataFrame([year[-1]])])\n",
    "    else:\n",
    "        years = pd.concat([years, pd.DataFrame([np.nan])])\n",
    "\n",
    "is_old = years >= years[years.isnull()==False].median()\n",
    "valid = years.isnull()\n",
    "older = pd.DataFrame()\n",
    "newer = pd.DataFrame()\n",
    "for i in range(len(is_old)):\n",
    "    if years.iloc[i].isnull().bool():\n",
    "#         print(years.iloc[i])\n",
    "        pass\n",
    "    else:\n",
    "        if popularity[i] == True:\n",
    "            older = pd.concat([older,df.iloc[:,i][df.iloc[:,i].isnull()==False]])\n",
    "        else:\n",
    "            newer = pd.concat([newer, df.iloc[:,i][df.iloc[:,i].isnull()==False]])\n",
    "            \n",
    "res = stats.mannwhitneyu(newer, older, alternative = \"two-sided\")\n",
    "display(res)\n",
    "print(\"movies that are newer is rated differently than movies that are older\")"
   ]
  },
  {
   "cell_type": "markdown",
   "id": "76cc4904-5101-4ebf-8389-3ca6e9443124",
   "metadata": {},
   "source": [
    "# 3) Is enjoyment of ‘Shrek (2001)’ gendered, i.e. do male and female viewers rate it differently? "
   ]
  },
  {
   "cell_type": "code",
   "execution_count": 6,
   "id": "2f331ee8-3969-45e9-b666-cd9abee23477",
   "metadata": {},
   "outputs": [
    {
     "data": {
      "text/plain": [
       "MannwhitneyuResult(statistic=82232.5, pvalue=0.050536625925559006)"
      ]
     },
     "metadata": {},
     "output_type": "display_data"
    },
    {
     "name": "stdout",
     "output_type": "stream",
     "text": [
      "p > 0.005，Failed to reject\n",
      "The enjoyment of ‘Shrek (2001)’ is not gendered. Male and female viewers rate it the same\n"
     ]
    }
   ],
   "source": [
    "# column 475: Gender identity (1 = female, 2 = male, 3 = self-described)\n",
    "male = df['Shrek (2001)'][df.iloc[:,474] == 2]\n",
    "female = df['Shrek (2001)'][df.iloc[:,474] == 1]\n",
    "\n",
    "# H0 female = male; H1 female!= male\n",
    "\n",
    "res = stats.mannwhitneyu(male[male.isnull()== False], female[female.isnull()== False])\n",
    "display(res)\n",
    "print(\"p > 0.005，Failed to reject\")\n",
    "print(\"The enjoyment of ‘Shrek (2001)’ is not gendered. Male and female viewers rate it the same\")"
   ]
  },
  {
   "cell_type": "markdown",
   "id": "546394ee-827c-45c5-b62d-268fccf060e9",
   "metadata": {},
   "source": [
    "# 4) What proportion of movies are rated differently by male and female viewers?"
   ]
  },
  {
   "cell_type": "code",
   "execution_count": 7,
   "id": "5ff1caf7-67d3-4411-b0e9-45504dd9d567",
   "metadata": {},
   "outputs": [
    {
     "name": "stdout",
     "output_type": "stream",
     "text": [
      "proportion of movies are rated differently by male and female viewers =  0.125\n"
     ]
    }
   ],
   "source": [
    "num = 0\n",
    "for i in range(400):\n",
    "    male = df.iloc[:,i][df.iloc[:,474] == 2]\n",
    "    female = df.iloc[:,i][df.iloc[:,474] == 1]\n",
    "    res = stats.mannwhitneyu(male[male.isnull()== False], female[female.isnull()== False]\n",
    "                      , alternative = 'two-sided')\n",
    "    if res.pvalue > 0.005:\n",
    "        num +=1\n",
    "print(\"proportion of movies are rated differently by male and female viewers = \", 1-(num/400))"
   ]
  },
  {
   "cell_type": "markdown",
   "id": "cfb703f1-ca7f-4a77-b4a8-9a33eae0bff4",
   "metadata": {},
   "source": [
    "# 5. Do people who are only children enjoy ‘The Lion King (1994)’ more than people with siblings?"
   ]
  },
  {
   "cell_type": "code",
   "execution_count": 8,
   "id": "e927e52c-b76f-4e0b-93bc-d2bf556dec78",
   "metadata": {},
   "outputs": [
    {
     "data": {
      "text/plain": [
       "MannwhitneyuResult(statistic=52929.0, pvalue=0.978419092554931)"
      ]
     },
     "metadata": {},
     "output_type": "display_data"
    },
    {
     "name": "stdout",
     "output_type": "stream",
     "text": [
      "p > 0.005，Failed to reject\n",
      "Only children does enjoy ‘The Lion King (1994)’ more than siblings\n"
     ]
    }
   ],
   "source": [
    "#Column 476: Only child (1 = yes, 0 = no, -1 = no response)\n",
    "onlychild = df['The Lion King (1994)'][df.iloc[:,475] == 1]\n",
    "sibling = df['The Lion King (1994)'][df.iloc[:,475] == 0]\n",
    "\n",
    "# H0 onlychild > sblings; H1 onlychild <= siblings\n",
    "res = stats.mannwhitneyu(onlychild[onlychild.isnull()== False], sibling[sibling.isnull()== False]\n",
    "                      , alternative = 'greater')\n",
    "display(res)\n",
    "        \n",
    "print(\"p > 0.005，Failed to reject\")\n",
    "print(\"Only children does enjoy ‘The Lion King (1994)’ more than siblings\")"
   ]
  },
  {
   "cell_type": "markdown",
   "id": "80d4b523-ebbf-461a-9161-f37cc912c3bc",
   "metadata": {},
   "source": [
    "# 6) What proportion of movies exhibit an “only child effect”, i.e. are rated different by viewers with siblings vs. those without"
   ]
  },
  {
   "cell_type": "code",
   "execution_count": 9,
   "id": "f492990a-503d-41c5-a471-4e3f2174ed3c",
   "metadata": {},
   "outputs": [
    {
     "name": "stdout",
     "output_type": "stream",
     "text": [
      "proportion of movies exhibit such a “social watching” effect =  1.0\n"
     ]
    }
   ],
   "source": [
    "num = 0\n",
    "for i in range(400):\n",
    "    onlychild = df.iloc[:,i][df.iloc[:,475] == 1]\n",
    "    sibling = df.iloc[:,i][df.iloc[:,475] == 0]\n",
    "    res = stats.mannwhitneyu(onlychild[onlychild.isnull()== False], sibling[sibling.isnull()== False]\n",
    "                      , alternative = 'greater')\n",
    "    if res.pvalue > 0.005:\n",
    "        num +=1\n",
    "print(\"proportion of movies exhibit such a “social watching” effect = \", num/400)\n"
   ]
  },
  {
   "cell_type": "markdown",
   "id": "2e7e931d-ecdb-48b7-ae86-fa118bfe07d1",
   "metadata": {},
   "source": [
    "# 7) Do people who like to watch movies socially enjoy ‘The Wolf of Wall Street (2013)’ more than those who prefer to watch them alone?\n"
   ]
  },
  {
   "cell_type": "code",
   "execution_count": 10,
   "id": "98644159-9a14-458b-887a-5f1167e017bc",
   "metadata": {},
   "outputs": [
    {
     "data": {
      "text/plain": [
       "MannwhitneyuResult(statistic=49303.5, pvalue=0.9436657996253056)"
      ]
     },
     "metadata": {},
     "output_type": "display_data"
    },
    {
     "name": "stdout",
     "output_type": "stream",
     "text": [
      "p > 0.005，Failed to reject\n",
      "People who like to watch movies socially enjoy ‘The Wolf of Wall Street (2013)’ more than those who prefer to watch them alone\n"
     ]
    }
   ],
   "source": [
    "#Column 477: Movies are best enjoyed alone (1 = yes, 0 = no, -1 = no response)\n",
    "alone = df['The Wolf of Wall Street (2013)'][df.iloc[:,476] == 1]\n",
    "social = df['The Wolf of Wall Street (2013)'][df.iloc[:,476] == 0]\n",
    "\n",
    "# H0 social > alone; H1 social <= alone\n",
    "\n",
    "res = stats.mannwhitneyu(social[social.isnull()== False], alone[alone.isnull()== False]\n",
    "                      , alternative = 'greater')\n",
    "display(res)\n",
    "print(\"p > 0.005，Failed to reject\")\n",
    "print(\"People who like to watch movies socially enjoy ‘The Wolf of Wall Street (2013)’ more than those who prefer to watch them alone\")"
   ]
  },
  {
   "cell_type": "markdown",
   "id": "f6d2505f-b2d0-4319-9cf3-bf3771cddeb0",
   "metadata": {},
   "source": [
    "# 8) What proportion of movies exhibit such a “social watching” effect?"
   ]
  },
  {
   "cell_type": "code",
   "execution_count": 11,
   "id": "b43d677e-101f-4833-b8cb-f3c0652ab9d8",
   "metadata": {},
   "outputs": [
    {
     "name": "stdout",
     "output_type": "stream",
     "text": [
      "proportion of movies exhibit such a “social watching” effect =  0.985\n"
     ]
    }
   ],
   "source": [
    "num = 0\n",
    "for i in range(400):\n",
    "    alone = df.iloc[:,i][df.iloc[:,476] == 1]\n",
    "    social = df.iloc[:,i][df.iloc[:,476] == 0]\n",
    "    res = stats.mannwhitneyu(social[social.isnull()== False], alone[alone.isnull()== False]\n",
    "                      ,alternative = 'greater')\n",
    "    if res.pvalue > 0.005:\n",
    "        num +=1\n",
    "print(\"proportion of movies exhibit such a “social watching” effect = \", num/400)"
   ]
  },
  {
   "cell_type": "markdown",
   "id": "9df08cc5-ad16-47ec-a6ba-71095b2f1bef",
   "metadata": {},
   "source": [
    "# 9) Is the ratings distribution of ‘Home Alone (1990)’ different than that of ‘Finding Nemo (2003)’?"
   ]
  },
  {
   "cell_type": "code",
   "execution_count": 12,
   "id": "796ad61f-926b-4afa-aeb9-b00d22476769",
   "metadata": {},
   "outputs": [
    {
     "data": {
      "text/plain": [
       "KstestResult(statistic=0.15269080020897632, pvalue=6.379381467525036e-10)"
      ]
     },
     "metadata": {},
     "output_type": "display_data"
    },
    {
     "name": "stdout",
     "output_type": "stream",
     "text": [
      "Reject the null hypothesis\n",
      "The ratings distribution of ‘Home Alone (1990)’ is different than that of ‘Finding Nemo (2003)\n"
     ]
    }
   ],
   "source": [
    "home = df['Home Alone (1990)'][df['Home Alone (1990)'].isnull()==False]\n",
    "nemo = df['Finding Nemo (2003)'][df['Finding Nemo (2003)'].isnull()==False]\n",
    "res = stats.ks_2samp(home, nemo)\n",
    "display(res)\n",
    "print(\"Reject the null hypothesis\")\n",
    "print('The ratings distribution of ‘Home Alone (1990)’ is different than that of ‘Finding Nemo (2003)')"
   ]
  },
  {
   "cell_type": "markdown",
   "id": "dab47ecc-a210-4ec2-82f6-db36f7b50733",
   "metadata": {},
   "source": [
    "# 10) There are ratings on movies from several franchises ([‘Star Wars’, ‘Harry Potter’, ‘The Matrix’, ‘Indiana Jones’, ‘Jurassic Park’, ‘Pirates of the Caribbean’, ‘Toy Story’, ‘Batman’]) in this dataset. How many of these are of inconsistent quality, as experienced by viewers? "
   ]
  },
  {
   "cell_type": "code",
   "execution_count": 19,
   "id": "9d838bb3-016d-4291-ae7c-973a400a3279",
   "metadata": {},
   "outputs": [
    {
     "name": "stdout",
     "output_type": "stream",
     "text": [
      "Star Wars: 8.01647736660335e-48\n",
      "Reject the null hypothesis; The quality is inconsistant\n",
      "\n",
      "Harry Potter: 0.34331950837289205\n",
      "Failed to reject the null hypothesis; The quality is consistant\n",
      "\n",
      "The Matrix: 3.1236517880781424e-11\n",
      "Reject the null hypothesis; The quality is inconsistant\n",
      "\n",
      "Indiana Jones: 6.27277563979608e-10\n",
      "Reject the null hypothesis; The quality is inconsistant\n",
      "\n",
      "Jurassic Park: 7.636930084362221e-11\n",
      "Reject the null hypothesis; The quality is inconsistant\n",
      "\n",
      "Pirates of the Caribbean: 3.2901287079094474e-05\n",
      "Reject the null hypothesis; The quality is inconsistant\n",
      "\n",
      "Toy Story: 5.065805156537524e-06\n",
      "Reject the null hypothesis; The quality is inconsistant\n",
      "\n",
      "Batman: 4.2252969509030006e-42\n",
      "Reject the null hypothesis; The quality is inconsistant\n"
     ]
    }
   ],
   "source": [
    "star, potter, matrix, jones, park, pirates, toy, batman = [],[],[],[],[],[],[],[]\n",
    "\n",
    "for i in df.columns:\n",
    "    if 'Star Wars' in i:\n",
    "        star.append(list(df[i][df[i].isnull() == False]))\n",
    "    elif 'Harry Potter' in i:\n",
    "        potter.append(list(df[i][df[i].isnull() == False]))\n",
    "    elif 'The Matrix' in i:\n",
    "        matrix.append(list(df[i][df[i].isnull() == False]))\n",
    "    elif \"Indiana Jones\" in i:\n",
    "        jones.append(list(df[i][df[i].isnull() == False]))\n",
    "    elif 'Jurassic Park' in i:\n",
    "        park.append(list(df[i][df[i].isnull() == False]))\n",
    "    elif 'Pirates of the Caribbean' in i:\n",
    "        pirates.append(list(df[i][df[i].isnull() == False]))\n",
    "    elif 'Toy Story' in i:\n",
    "        toy.append(list(df[i][df[i].isnull() == False]))\n",
    "    elif 'Batman' in i:\n",
    "        batman.append(list(df[i][df[i].isnull() == False]))\n",
    "            \n",
    "print(\"Star Wars:\", stats.kruskal(*star).pvalue)\n",
    "print(\"Reject the null hypothesis; The quality is inconsistant\")\n",
    "print()\n",
    "print(\"Harry Potter:\", stats.kruskal(*potter).pvalue)\n",
    "print(\"Failed to reject the null hypothesis; The quality is consistant\")\n",
    "print()\n",
    "print(\"The Matrix:\", stats.kruskal(*matrix).pvalue)\n",
    "print(\"Reject the null hypothesis; The quality is inconsistant\")\n",
    "print()\n",
    "print(\"Indiana Jones:\", stats.kruskal(*jones).pvalue)\n",
    "print(\"Reject the null hypothesis; The quality is inconsistant\")\n",
    "print()\n",
    "print(\"Jurassic Park:\", stats.kruskal(*park).pvalue)\n",
    "print(\"Reject the null hypothesis; The quality is inconsistant\")\n",
    "print()\n",
    "print(\"Pirates of the Caribbean:\", stats.kruskal(*pirates).pvalue)\n",
    "print(\"Reject the null hypothesis; The quality is inconsistant\")\n",
    "print()\n",
    "print(\"Toy Story:\", stats.kruskal(*toy).pvalue)\n",
    "print(\"Reject the null hypothesis; The quality is inconsistant\")\n",
    "print()\n",
    "print(\"Batman:\", stats.kruskal(*batman).pvalue)\n",
    "print(\"Reject the null hypothesis; The quality is inconsistant\")"
   ]
  },
  {
   "cell_type": "markdown",
   "id": "119b6299-11e7-455d-bc6c-dafcea727586",
   "metadata": {},
   "source": [
    "# Extra Credit: People that are able to keep track of the movie tend to rate higher than those aren't able"
   ]
  },
  {
   "cell_type": "code",
   "execution_count": 20,
   "id": "256057df-7b10-4c30-8242-8737af82be2c",
   "metadata": {},
   "outputs": [
    {
     "data": {
      "text/plain": [
       "MannwhitneyuResult(statistic=array([1.14985713e+08]), pvalue=array([0.10821867]))"
      ]
     },
     "metadata": {},
     "output_type": "display_data"
    },
    {
     "name": "stdout",
     "output_type": "stream",
     "text": [
      "p > 0.005，Failed Reject the null hypothesis\n",
      "People that are able to keep track of the movie tend to rate higher than those are not able\n"
     ]
    }
   ],
   "source": [
    "keep_track = df['As a movie unfolds I start to have problems keeping track of events that happened earlier']\n",
    "#Let 12 be able to keep track, Let 56 be not able to keep track\n",
    "\n",
    "lost = pd.DataFrame()\n",
    "not_lost = pd.DataFrame()\n",
    "for i in range(400):\n",
    "    if keep_track.iloc[i]<3:\n",
    "        not_lost = pd.concat([not_lost,df.iloc[:,i][df.iloc[:,i].isnull()==False]])\n",
    "    elif keep_track.iloc[i]>4:\n",
    "        lost = pd.concat([lost, df.iloc[:,i][df.iloc[:,i].isnull()==False]])\n",
    "\n",
    "res = stats.mannwhitneyu(not_lost, lost, alternative = \"greater\")\n",
    "display(res)\n",
    "print(\"p > 0.005，Failed Reject the null hypothesis\")\n",
    "print('People that are able to keep track of the movie tend to rate higher than those are not able')\n"
   ]
  },
  {
   "cell_type": "code",
   "execution_count": null,
   "id": "001054d0-81ee-41c6-b32b-333624bfb941",
   "metadata": {},
   "outputs": [],
   "source": []
  }
 ],
 "metadata": {
  "kernelspec": {
   "display_name": "Python 3",
   "language": "python",
   "name": "python3"
  },
  "language_info": {
   "codemirror_mode": {
    "name": "ipython",
    "version": 3
   },
   "file_extension": ".py",
   "mimetype": "text/x-python",
   "name": "python",
   "nbconvert_exporter": "python",
   "pygments_lexer": "ipython3",
   "version": "3.8.8"
  }
 },
 "nbformat": 4,
 "nbformat_minor": 5
}
